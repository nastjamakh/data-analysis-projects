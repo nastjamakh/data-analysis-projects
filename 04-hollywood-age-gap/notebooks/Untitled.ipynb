{
 "cells": [
  {
   "cell_type": "code",
   "execution_count": 1,
   "id": "5eb0de8b",
   "metadata": {},
   "outputs": [],
   "source": [
    "import pandas as pd\n",
    "import seaborn as sns\n",
    "import numpy as np\n",
    "import matplotlib.pyplot as plt\n",
    "\n",
    "sns.set()\n",
    "\n",
    "plt.rcParams['axes.facecolor']='#fafafa'\n",
    "plt.rcParams['savefig.facecolor']='#fafafa'"
   ]
  },
  {
   "cell_type": "markdown",
   "id": "961cd020",
   "metadata": {},
   "source": [
    "## Load data"
   ]
  },
  {
   "cell_type": "markdown",
   "id": "f0fbf58e",
   "metadata": {},
   "source": [
    "Downloaded from IMDB at https://www.imdb.com/interfaces/"
   ]
  },
  {
   "cell_type": "code",
   "execution_count": null,
   "id": "43e4d70b",
   "metadata": {},
   "outputs": [],
   "source": [
    "df_movies = pd.read_csv('../data/title.basics.tsv', sep='\\t')\n",
    "df_ratings = pd.read_csv('../data/title.ratings.tsv', sep='\\t')\n",
    "\n",
    "df_movies.head()"
   ]
  },
  {
   "cell_type": "code",
   "execution_count": 50,
   "id": "77e9d0da",
   "metadata": {},
   "outputs": [
    {
     "data": {
      "text/html": [
       "<div>\n",
       "<style scoped>\n",
       "    .dataframe tbody tr th:only-of-type {\n",
       "        vertical-align: middle;\n",
       "    }\n",
       "\n",
       "    .dataframe tbody tr th {\n",
       "        vertical-align: top;\n",
       "    }\n",
       "\n",
       "    .dataframe thead th {\n",
       "        text-align: right;\n",
       "    }\n",
       "</style>\n",
       "<table border=\"1\" class=\"dataframe\">\n",
       "  <thead>\n",
       "    <tr style=\"text-align: right;\">\n",
       "      <th></th>\n",
       "      <th>movie_id</th>\n",
       "      <th>primary_title</th>\n",
       "      <th>original_title</th>\n",
       "      <th>release_year</th>\n",
       "      <th>duration</th>\n",
       "      <th>genres</th>\n",
       "    </tr>\n",
       "  </thead>\n",
       "  <tbody>\n",
       "    <tr>\n",
       "      <th>498</th>\n",
       "      <td>tt0000502</td>\n",
       "      <td>Bohemios</td>\n",
       "      <td>Bohemios</td>\n",
       "      <td>1905</td>\n",
       "      <td>100</td>\n",
       "      <td>NaN</td>\n",
       "    </tr>\n",
       "    <tr>\n",
       "      <th>570</th>\n",
       "      <td>tt0000574</td>\n",
       "      <td>The Story of the Kelly Gang</td>\n",
       "      <td>The Story of the Kelly Gang</td>\n",
       "      <td>1906</td>\n",
       "      <td>70</td>\n",
       "      <td>Action,Adventure,Biography</td>\n",
       "    </tr>\n",
       "    <tr>\n",
       "      <th>587</th>\n",
       "      <td>tt0000591</td>\n",
       "      <td>The Prodigal Son</td>\n",
       "      <td>L'enfant prodigue</td>\n",
       "      <td>1907</td>\n",
       "      <td>90</td>\n",
       "      <td>Drama</td>\n",
       "    </tr>\n",
       "  </tbody>\n",
       "</table>\n",
       "</div>"
      ],
      "text/plain": [
       "      movie_id                primary_title               original_title  \\\n",
       "498  tt0000502                     Bohemios                     Bohemios   \n",
       "570  tt0000574  The Story of the Kelly Gang  The Story of the Kelly Gang   \n",
       "587  tt0000591             The Prodigal Son            L'enfant prodigue   \n",
       "\n",
       "    release_year duration                      genres  \n",
       "498         1905      100                         NaN  \n",
       "570         1906       70  Action,Adventure,Biography  \n",
       "587         1907       90                       Drama  "
      ]
     },
     "execution_count": 50,
     "metadata": {},
     "output_type": "execute_result"
    }
   ],
   "source": [
    "# use np.nan instead of string fill value\n",
    "df_movies = df_movies.replace('\\\\N',np.NaN)\n",
    "\n",
    "# Filter out non-movies and porn movies\n",
    "df_movies = df_movies.query('(titleType == \"movie\") and (isAdult ==0)')\n",
    "\n",
    "# preprocess columns\n",
    "df_movies = df_movies.drop(['titleType', 'isAdult', 'endYear'], axis=1)\n",
    "df_movies.columns = ['movie_id', 'primary_title', 'original_title', 'release_year', 'duration', 'genres']\n",
    "\n",
    "df_movies.head(3)"
   ]
  },
  {
   "cell_type": "code",
   "execution_count": 51,
   "id": "68d8ce42",
   "metadata": {},
   "outputs": [
    {
     "name": "stdout",
     "output_type": "stream",
     "text": [
      "Dataset contains 418,621 movies released since 1960\n"
     ]
    }
   ],
   "source": [
    "# preprocess year\n",
    "df_movies = df_movies[df_movies.release_year.notnull()]\n",
    "df_movies.release_year = df_movies.release_year.astype(int)\n",
    "df_movies = df_movies.query('release_year >= 1960')\n",
    "print(f'Dataset contains {df_movies.shape[0]:,} movies released since 1960')\n",
    "\n",
    "# remove movies that were not released yet\n",
    "df_movies = df_movies[df_movies.release_year < 2022]"
   ]
  },
  {
   "cell_type": "code",
   "execution_count": 52,
   "id": "79937b60",
   "metadata": {},
   "outputs": [
    {
     "name": "stdout",
     "output_type": "stream",
     "text": [
      "10.35% have no genre information.\n",
      "8.48% of movies have romantic plot.\n"
     ]
    }
   ],
   "source": [
    "# extract romance genre\n",
    "print(f'{round(df_movies.genres.isnull().sum() / df_movies.shape[0] * 100,2)}% have no genre information.')\n",
    "df_movies = df_movies[df_movies.genres.notnull()]\n",
    "df_movies['is_romance'] = df_movies.genres.str.lower().str.contains('romance')\n",
    "\n",
    "pct_romance = df_movies.is_romance.sum() / df_movies.shape[0] * 100\n",
    "print(f'{round(pct_romance,2)}% of movies have romantic plot.')"
   ]
  },
  {
   "cell_type": "code",
   "execution_count": 53,
   "id": "7d44178b",
   "metadata": {},
   "outputs": [
    {
     "data": {
      "text/plain": [
       "Text(0.5, 1.0, 'How Many Movies Were Released This Year?')"
      ]
     },
     "execution_count": 53,
     "metadata": {},
     "output_type": "execute_result"
    },
    {
     "data": {
      "image/png": "[encoded data removed]",
      "text/plain": [
       "<Figure size 1080x360 with 1 Axes>"
      ]
     },
     "metadata": {},
     "output_type": "display_data"
    }
   ],
   "source": [
    "plt.figure(figsize=(15,5))\n",
    "df_movies.groupby('release_year').count().primary_title.plot(color='red')\n",
    "plt.title('How Many Movies Were Released This Year?', fontsize=15, fontfamily='monospace')"
   ]
  },
  {
   "cell_type": "code",
   "execution_count": 54,
   "id": "11dad368",
   "metadata": {},
   "outputs": [
    {
     "data": {
      "text/plain": [
       "Text(0.5, 1.0, 'Proportion of Romantic Movies By Year')"
      ]
     },
     "execution_count": 54,
     "metadata": {},
     "output_type": "execute_result"
    },
    {
     "data": {
      "image/png": "[encoded data removed]",
      "text/plain": [
       "<Figure size 1080x360 with 1 Axes>"
      ]
     },
     "metadata": {},
     "output_type": "display_data"
    }
   ],
   "source": [
    "plt.figure(figsize=(15,5))\n",
    "df_movies.groupby('release_year').apply(lambda year: year.is_romance.sum() / year.shape[0]).plot(color='red')\n",
    "plt.title('Proportion of Romantic Movies By Year', fontsize=15, fontfamily='monospace')"
   ]
  },
  {
   "cell_type": "markdown",
   "id": "ac5d4dd2",
   "metadata": {},
   "source": [
    "## Add Ratings"
   ]
  },
  {
   "cell_type": "code",
   "execution_count": 74,
   "id": "dd906aba",
   "metadata": {},
   "outputs": [],
   "source": [
    "df_romances = df_movies.query('is_romance')"
   ]
  },
  {
   "cell_type": "code",
   "execution_count": 57,
   "id": "d0e6e33c",
   "metadata": {},
   "outputs": [],
   "source": [
    "df_ratings.columns = ['movie_id', 'rating', 'num_votes']"
   ]
  },
  {
   "cell_type": "code",
   "execution_count": 76,
   "id": "72b85b48",
   "metadata": {},
   "outputs": [
    {
     "data": {
      "text/html": [
       "<div>\n",
       "<style scoped>\n",
       "    .dataframe tbody tr th:only-of-type {\n",
       "        vertical-align: middle;\n",
       "    }\n",
       "\n",
       "    .dataframe tbody tr th {\n",
       "        vertical-align: top;\n",
       "    }\n",
       "\n",
       "    .dataframe thead th {\n",
       "        text-align: right;\n",
       "    }\n",
       "</style>\n",
       "<table border=\"1\" class=\"dataframe\">\n",
       "  <thead>\n",
       "    <tr style=\"text-align: right;\">\n",
       "      <th></th>\n",
       "      <th>movie_id</th>\n",
       "      <th>primary_title</th>\n",
       "      <th>original_title</th>\n",
       "      <th>release_year</th>\n",
       "      <th>duration</th>\n",
       "      <th>genres</th>\n",
       "      <th>is_romance</th>\n",
       "      <th>rating</th>\n",
       "      <th>num_votes</th>\n",
       "    </tr>\n",
       "  </thead>\n",
       "  <tbody>\n",
       "    <tr>\n",
       "      <th>0</th>\n",
       "      <td>tt0015724</td>\n",
       "      <td>Dama de noche</td>\n",
       "      <td>Dama de noche</td>\n",
       "      <td>1993</td>\n",
       "      <td>102</td>\n",
       "      <td>Drama,Mystery,Romance</td>\n",
       "      <td>True</td>\n",
       "      <td>6.2</td>\n",
       "      <td>25.0</td>\n",
       "    </tr>\n",
       "    <tr>\n",
       "      <th>1</th>\n",
       "      <td>tt0035423</td>\n",
       "      <td>Kate &amp; Leopold</td>\n",
       "      <td>Kate &amp; Leopold</td>\n",
       "      <td>2001</td>\n",
       "      <td>118</td>\n",
       "      <td>Comedy,Fantasy,Romance</td>\n",
       "      <td>True</td>\n",
       "      <td>6.4</td>\n",
       "      <td>82463.0</td>\n",
       "    </tr>\n",
       "    <tr>\n",
       "      <th>2</th>\n",
       "      <td>tt0047027</td>\n",
       "      <td>La gitana y el charro</td>\n",
       "      <td>La gitana y el charro</td>\n",
       "      <td>1964</td>\n",
       "      <td>87</td>\n",
       "      <td>Comedy,Musical,Romance</td>\n",
       "      <td>True</td>\n",
       "      <td>4.8</td>\n",
       "      <td>15.0</td>\n",
       "    </tr>\n",
       "  </tbody>\n",
       "</table>\n",
       "</div>"
      ],
      "text/plain": [
       "    movie_id          primary_title         original_title  release_year  \\\n",
       "0  tt0015724          Dama de noche          Dama de noche          1993   \n",
       "1  tt0035423         Kate & Leopold         Kate & Leopold          2001   \n",
       "2  tt0047027  La gitana y el charro  La gitana y el charro          1964   \n",
       "\n",
       "  duration                  genres  is_romance  rating  num_votes  \n",
       "0      102   Drama,Mystery,Romance        True     6.2       25.0  \n",
       "1      118  Comedy,Fantasy,Romance        True     6.4    82463.0  \n",
       "2       87  Comedy,Musical,Romance        True     4.8       15.0  "
      ]
     },
     "execution_count": 76,
     "metadata": {},
     "output_type": "execute_result"
    }
   ],
   "source": [
    "df = df_romances.merge(df_ratings, on='movie_id', how='left')\n",
    "df.head(3)"
   ]
  },
  {
   "cell_type": "code",
   "execution_count": 77,
   "id": "75c0a50a",
   "metadata": {},
   "outputs": [
    {
     "name": "stdout",
     "output_type": "stream",
     "text": [
      "23.19% of movies have no votes on IMDB.\n"
     ]
    },
    {
     "data": {
      "text/plain": [
       "24022"
      ]
     },
     "execution_count": 77,
     "metadata": {},
     "output_type": "execute_result"
    }
   ],
   "source": [
    "num_no_votes = df[df.num_votes.isnull()].shape[0] / df.shape[0] * 100\n",
    "print(f'{round(num_no_votes,2)}% of movies have no votes on IMDB.')\n",
    "\n",
    "df = df[df.num_votes.notnull()]\n",
    "df.shape[0]"
   ]
  },
  {
   "cell_type": "code",
   "execution_count": 78,
   "id": "a7c4729e",
   "metadata": {},
   "outputs": [
    {
     "name": "stderr",
     "output_type": "stream",
     "text": [
      "/home/jumbo/.cache/pypoetry/virtualenvs/mars-venus-dxxCsHEx-py3.9/lib/python3.9/site-packages/seaborn/_decorators.py:36: FutureWarning: Pass the following variable as a keyword arg: x. From version 0.12, the only valid positional argument will be `data`, and passing other arguments without an explicit keyword will result in an error or misinterpretation.\n",
      "  warnings.warn(\n"
     ]
    },
    {
     "data": {
      "text/plain": [
       "<AxesSubplot:xlabel='num_votes'>"
      ]
     },
     "execution_count": 78,
     "metadata": {},
     "output_type": "execute_result"
    },
    {
     "data": {
      "image/png": "[encoded data removed]",
      "text/plain": [
       "<Figure size 432x288 with 1 Axes>"
      ]
     },
     "metadata": {},
     "output_type": "display_data"
    }
   ],
   "source": [
    "sns.boxplot(df.num_votes, showfliers=False)"
   ]
  },
  {
   "cell_type": "code",
   "execution_count": 98,
   "id": "770d9e7d",
   "metadata": {},
   "outputs": [
    {
     "data": {
      "text/html": [
       "<div>\n",
       "<style scoped>\n",
       "    .dataframe tbody tr th:only-of-type {\n",
       "        vertical-align: middle;\n",
       "    }\n",
       "\n",
       "    .dataframe tbody tr th {\n",
       "        vertical-align: top;\n",
       "    }\n",
       "\n",
       "    .dataframe thead th {\n",
       "        text-align: right;\n",
       "    }\n",
       "</style>\n",
       "<table border=\"1\" class=\"dataframe\">\n",
       "  <thead>\n",
       "    <tr style=\"text-align: right;\">\n",
       "      <th></th>\n",
       "      <th>primary_title</th>\n",
       "      <th>original_title</th>\n",
       "      <th>release_year</th>\n",
       "      <th>duration</th>\n",
       "      <th>genres</th>\n",
       "      <th>is_romance</th>\n",
       "      <th>rating</th>\n",
       "      <th>num_votes</th>\n",
       "    </tr>\n",
       "    <tr>\n",
       "      <th>movie_id</th>\n",
       "      <th></th>\n",
       "      <th></th>\n",
       "      <th></th>\n",
       "      <th></th>\n",
       "      <th></th>\n",
       "      <th></th>\n",
       "      <th></th>\n",
       "      <th></th>\n",
       "    </tr>\n",
       "  </thead>\n",
       "  <tbody>\n",
       "    <tr>\n",
       "      <th>tt8231668</th>\n",
       "      <td>Good on Paper</td>\n",
       "      <td>Good on Paper</td>\n",
       "      <td>2021</td>\n",
       "      <td>92</td>\n",
       "      <td>Comedy,Romance</td>\n",
       "      <td>True</td>\n",
       "      <td>5.6</td>\n",
       "      <td>10616.0</td>\n",
       "    </tr>\n",
       "    <tr>\n",
       "      <th>tt9766332</th>\n",
       "      <td>Atrangi Re</td>\n",
       "      <td>Atrangi Re</td>\n",
       "      <td>2021</td>\n",
       "      <td>138</td>\n",
       "      <td>Comedy,Drama,Romance</td>\n",
       "      <td>True</td>\n",
       "      <td>6.8</td>\n",
       "      <td>17609.0</td>\n",
       "    </tr>\n",
       "    <tr>\n",
       "      <th>tt10293406</th>\n",
       "      <td>The Power of the Dog</td>\n",
       "      <td>The Power of the Dog</td>\n",
       "      <td>2021</td>\n",
       "      <td>126</td>\n",
       "      <td>Drama,Romance,Western</td>\n",
       "      <td>True</td>\n",
       "      <td>7.0</td>\n",
       "      <td>68137.0</td>\n",
       "    </tr>\n",
       "    <tr>\n",
       "      <th>tt8847712</th>\n",
       "      <td>The French Dispatch</td>\n",
       "      <td>The French Dispatch</td>\n",
       "      <td>2021</td>\n",
       "      <td>107</td>\n",
       "      <td>Comedy,Drama,Romance</td>\n",
       "      <td>True</td>\n",
       "      <td>7.4</td>\n",
       "      <td>62148.0</td>\n",
       "    </tr>\n",
       "    <tr>\n",
       "      <th>tt10752004</th>\n",
       "      <td>Love Hard</td>\n",
       "      <td>Love Hard</td>\n",
       "      <td>2021</td>\n",
       "      <td>104</td>\n",
       "      <td>Comedy,Romance</td>\n",
       "      <td>True</td>\n",
       "      <td>6.3</td>\n",
       "      <td>44469.0</td>\n",
       "    </tr>\n",
       "  </tbody>\n",
       "</table>\n",
       "</div>"
      ],
      "text/plain": [
       "                   primary_title        original_title  release_year duration  \\\n",
       "movie_id                                                                        \n",
       "tt8231668          Good on Paper         Good on Paper          2021       92   \n",
       "tt9766332             Atrangi Re            Atrangi Re          2021      138   \n",
       "tt10293406  The Power of the Dog  The Power of the Dog          2021      126   \n",
       "tt8847712    The French Dispatch   The French Dispatch          2021      107   \n",
       "tt10752004             Love Hard             Love Hard          2021      104   \n",
       "\n",
       "                           genres  is_romance  rating  num_votes  \n",
       "movie_id                                                          \n",
       "tt8231668          Comedy,Romance        True     5.6    10616.0  \n",
       "tt9766332    Comedy,Drama,Romance        True     6.8    17609.0  \n",
       "tt10293406  Drama,Romance,Western        True     7.0    68137.0  \n",
       "tt8847712    Comedy,Drama,Romance        True     7.4    62148.0  \n",
       "tt10752004         Comedy,Romance        True     6.3    44469.0  "
      ]
     },
     "execution_count": 98,
     "metadata": {},
     "output_type": "execute_result"
    }
   ],
   "source": [
    "TOP_YEAR = 20\n",
    "data = df.groupby('release_year').apply(lambda y: y.sort_values(by='num_votes', ascending=False).iloc[:TOP_YEAR])\\\n",
    "    .set_index('movie_id').sort_values(by='release_year', ascending=False)\n",
    "data.head()"
   ]
  },
  {
   "cell_type": "markdown",
   "id": "33aeda3c",
   "metadata": {},
   "source": [
    "## Add Actors and Age"
   ]
  },
  {
   "cell_type": "code",
   "execution_count": 99,
   "id": "8106a1f8",
   "metadata": {},
   "outputs": [
    {
     "data": {
      "text/html": [
       "<div>\n",
       "<style scoped>\n",
       "    .dataframe tbody tr th:only-of-type {\n",
       "        vertical-align: middle;\n",
       "    }\n",
       "\n",
       "    .dataframe tbody tr th {\n",
       "        vertical-align: top;\n",
       "    }\n",
       "\n",
       "    .dataframe thead th {\n",
       "        text-align: right;\n",
       "    }\n",
       "</style>\n",
       "<table border=\"1\" class=\"dataframe\">\n",
       "  <thead>\n",
       "    <tr style=\"text-align: right;\">\n",
       "      <th></th>\n",
       "      <th>primary_title</th>\n",
       "      <th>original_title</th>\n",
       "      <th>release_year</th>\n",
       "      <th>duration</th>\n",
       "      <th>genres</th>\n",
       "      <th>is_romance</th>\n",
       "      <th>rating</th>\n",
       "      <th>num_votes</th>\n",
       "      <th>actress</th>\n",
       "      <th>actress_age</th>\n",
       "      <th>actor</th>\n",
       "      <th>actor_age</th>\n",
       "      <th>age_gap</th>\n",
       "    </tr>\n",
       "    <tr>\n",
       "      <th>movie_id</th>\n",
       "      <th></th>\n",
       "      <th></th>\n",
       "      <th></th>\n",
       "      <th></th>\n",
       "      <th></th>\n",
       "      <th></th>\n",
       "      <th></th>\n",
       "      <th></th>\n",
       "      <th></th>\n",
       "      <th></th>\n",
       "      <th></th>\n",
       "      <th></th>\n",
       "      <th></th>\n",
       "    </tr>\n",
       "  </thead>\n",
       "  <tbody>\n",
       "    <tr>\n",
       "      <th>tt8231668</th>\n",
       "      <td>Good on Paper</td>\n",
       "      <td>Good on Paper</td>\n",
       "      <td>2021</td>\n",
       "      <td>92</td>\n",
       "      <td>Comedy,Romance</td>\n",
       "      <td>True</td>\n",
       "      <td>5.6</td>\n",
       "      <td>10616.0</td>\n",
       "      <td>NaN</td>\n",
       "      <td>NaN</td>\n",
       "      <td>NaN</td>\n",
       "      <td>NaN</td>\n",
       "      <td>NaN</td>\n",
       "    </tr>\n",
       "  </tbody>\n",
       "</table>\n",
       "</div>"
      ],
      "text/plain": [
       "           primary_title original_title  release_year duration  \\\n",
       "movie_id                                                         \n",
       "tt8231668  Good on Paper  Good on Paper          2021       92   \n",
       "\n",
       "                   genres  is_romance  rating  num_votes  actress  \\\n",
       "movie_id                                                            \n",
       "tt8231668  Comedy,Romance        True     5.6    10616.0      NaN   \n",
       "\n",
       "           actress_age  actor  actor_age  age_gap  \n",
       "movie_id                                           \n",
       "tt8231668          NaN    NaN        NaN      NaN  "
      ]
     },
     "execution_count": 99,
     "metadata": {},
     "output_type": "execute_result"
    }
   ],
   "source": [
    "data['actress'] = np.nan\n",
    "data['actress_age'] = np.nan\n",
    "\n",
    "data['actor'] = np.nan\n",
    "data['actor_age'] = np.nan\n",
    "\n",
    "data['age_gap'] = np.nan\n",
    "\n",
    "data.head(1)"
   ]
  },
  {
   "cell_type": "code",
   "execution_count": 101,
   "id": "1b69ceec",
   "metadata": {},
   "outputs": [
    {
     "data": {
      "text/plain": [
       "0.535483870967742"
      ]
     },
     "execution_count": 101,
     "metadata": {},
     "output_type": "execute_result"
    }
   ],
   "source": [
    "data[data.genres.str.contains('Comedy')].shape[0] / data.shape[0]"
   ]
  },
  {
   "cell_type": "code",
   "execution_count": null,
   "id": "665a68e0",
   "metadata": {},
   "outputs": [],
   "source": [
    "df_crew = pd.read_csv('../data/title.principals.tsv', sep='\\t')"
   ]
  },
  {
   "cell_type": "code",
   "execution_count": null,
   "id": "38a3a908",
   "metadata": {},
   "outputs": [],
   "source": [
    "df_crew"
   ]
  },
  {
   "cell_type": "code",
   "execution_count": null,
   "id": "612e1ab4",
   "metadata": {},
   "outputs": [],
   "source": [
    "# get names of actors playing romantic couple\n",
    "# get actors' birth year\n",
    "# get actors age when movie was released (release year - birth year)\n",
    "# get age gap"
   ]
  }
 ],
 "metadata": {
  "kernelspec": {
   "display_name": "Python 3 (ipykernel)",
   "language": "python",
   "name": "python3"
  },
  "language_info": {
   "codemirror_mode": {
    "name": "ipython",
    "version": 3
   },
   "file_extension": ".py",
   "mimetype": "text/x-python",
   "name": "python",
   "nbconvert_exporter": "python",
   "pygments_lexer": "ipython3",
   "version": "3.9.5"
  }
 },
 "nbformat": 4,
 "nbformat_minor": 5
}
