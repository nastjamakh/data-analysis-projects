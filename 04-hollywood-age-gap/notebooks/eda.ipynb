{
 "cells": [
  {
   "cell_type": "code",
   "execution_count": 1,
   "id": "5eb0de8b",
   "metadata": {},
   "outputs": [],
   "source": [
    "import pandas as pd\n",
    "import seaborn as sns\n",
    "import numpy as np\n",
    "import matplotlib.pyplot as plt\n",
    "\n",
    "sns.set()\n",
    "sns.set_style(\"whitegrid\", {'axes.grid' : False})"
   ]
  },
  {
   "cell_type": "markdown",
   "id": "5ae22e9b",
   "metadata": {},
   "source": [
    "## Color Palette"
   ]
  },
  {
   "cell_type": "code",
   "execution_count": 2,
   "id": "4e341ac6",
   "metadata": {},
   "outputs": [
    {
     "data": {
      "image/png": "[encoded data removed]",
      "text/plain": [
       "<Figure size 360x72 with 1 Axes>"
      ]
     },
     "metadata": {},
     "output_type": "display_data"
    }
   ],
   "source": [
    "COLOR_BACKGROUND = '#fafafa'\n",
    "ACCENT_COLORS = ['#FF7B9C', '#FFC759']\n",
    "MUTED_COLORS = ['#BABFD1', '#607196']\n",
    "COLORS = [*MUTED_COLORS, *ACCENT_COLORS]\n",
    "COLOR_PALETTE = sns.color_palette(COLORS, as_cmap=True)\n",
    "sns.palplot([COLOR_BACKGROUND] + COLORS)"
   ]
  },
  {
   "cell_type": "code",
   "execution_count": 3,
   "id": "7aecb564",
   "metadata": {},
   "outputs": [],
   "source": [
    "# set background color\n",
    "plt.rcParams['axes.facecolor']= COLOR_BACKGROUND\n",
    "plt.rcParams['savefig.facecolor']= COLOR_BACKGROUND"
   ]
  },
  {
   "cell_type": "code",
   "execution_count": 4,
   "id": "8572d0e9",
   "metadata": {},
   "outputs": [
    {
     "data": {
      "text/plain": [
       "'#607196'"
      ]
     },
     "execution_count": 4,
     "metadata": {},
     "output_type": "execute_result"
    }
   ],
   "source": [
    "def random_color(accent=False):\n",
    "    c = ACCENT_COLORS if accent else MUTED_COLORS\n",
    "    return np.random.choice(c)\n",
    "\n",
    "random_color()"
   ]
  },
  {
   "cell_type": "markdown",
   "id": "961cd020",
   "metadata": {},
   "source": [
    "## Load data"
   ]
  },
  {
   "cell_type": "code",
   "execution_count": 5,
   "id": "7ffca24c",
   "metadata": {},
   "outputs": [],
   "source": [
    "URL_MOVIE_DESCRIPTION = 'https://datasets.imdbws.com/title.basics.tsv.gz'\n",
    "URL_MOVIE_RATINGS = 'https://datasets.imdbws.com/title.ratings.tsv.gz'"
   ]
  },
  {
   "cell_type": "code",
   "execution_count": 6,
   "id": "43e4d70b",
   "metadata": {},
   "outputs": [
    {
     "name": "stderr",
     "output_type": "stream",
     "text": [
      "/home/jumbo/.cache/pypoetry/virtualenvs/mars-venus-dxxCsHEx-py3.9/lib/python3.9/site-packages/IPython/core/interactiveshell.py:3457: DtypeWarning: Columns (4,5) have mixed types.Specify dtype option on import or set low_memory=False.\n",
      "  exec(code_obj, self.user_global_ns, self.user_ns)\n"
     ]
    },
    {
     "data": {
      "text/html": [
       "<div>\n",
       "<style scoped>\n",
       "    .dataframe tbody tr th:only-of-type {\n",
       "        vertical-align: middle;\n",
       "    }\n",
       "\n",
       "    .dataframe tbody tr th {\n",
       "        vertical-align: top;\n",
       "    }\n",
       "\n",
       "    .dataframe thead th {\n",
       "        text-align: right;\n",
       "    }\n",
       "</style>\n",
       "<table border=\"1\" class=\"dataframe\">\n",
       "  <thead>\n",
       "    <tr style=\"text-align: right;\">\n",
       "      <th></th>\n",
       "      <th>tconst</th>\n",
       "      <th>titleType</th>\n",
       "      <th>primaryTitle</th>\n",
       "      <th>originalTitle</th>\n",
       "      <th>isAdult</th>\n",
       "      <th>startYear</th>\n",
       "      <th>endYear</th>\n",
       "      <th>runtimeMinutes</th>\n",
       "      <th>genres</th>\n",
       "      <th>averageRating</th>\n",
       "      <th>numVotes</th>\n",
       "    </tr>\n",
       "  </thead>\n",
       "  <tbody>\n",
       "    <tr>\n",
       "      <th>0</th>\n",
       "      <td>tt0000001</td>\n",
       "      <td>short</td>\n",
       "      <td>Carmencita</td>\n",
       "      <td>Carmencita</td>\n",
       "      <td>0</td>\n",
       "      <td>1894</td>\n",
       "      <td>\\N</td>\n",
       "      <td>1</td>\n",
       "      <td>Documentary,Short</td>\n",
       "      <td>5.7</td>\n",
       "      <td>1846.0</td>\n",
       "    </tr>\n",
       "    <tr>\n",
       "      <th>1</th>\n",
       "      <td>tt0000002</td>\n",
       "      <td>short</td>\n",
       "      <td>Le clown et ses chiens</td>\n",
       "      <td>Le clown et ses chiens</td>\n",
       "      <td>0</td>\n",
       "      <td>1892</td>\n",
       "      <td>\\N</td>\n",
       "      <td>5</td>\n",
       "      <td>Animation,Short</td>\n",
       "      <td>6.0</td>\n",
       "      <td>239.0</td>\n",
       "    </tr>\n",
       "    <tr>\n",
       "      <th>2</th>\n",
       "      <td>tt0000003</td>\n",
       "      <td>short</td>\n",
       "      <td>Pauvre Pierrot</td>\n",
       "      <td>Pauvre Pierrot</td>\n",
       "      <td>0</td>\n",
       "      <td>1892</td>\n",
       "      <td>\\N</td>\n",
       "      <td>4</td>\n",
       "      <td>Animation,Comedy,Romance</td>\n",
       "      <td>6.5</td>\n",
       "      <td>1615.0</td>\n",
       "    </tr>\n",
       "    <tr>\n",
       "      <th>3</th>\n",
       "      <td>tt0000004</td>\n",
       "      <td>short</td>\n",
       "      <td>Un bon bock</td>\n",
       "      <td>Un bon bock</td>\n",
       "      <td>0</td>\n",
       "      <td>1892</td>\n",
       "      <td>\\N</td>\n",
       "      <td>12</td>\n",
       "      <td>Animation,Short</td>\n",
       "      <td>6.0</td>\n",
       "      <td>155.0</td>\n",
       "    </tr>\n",
       "    <tr>\n",
       "      <th>4</th>\n",
       "      <td>tt0000005</td>\n",
       "      <td>short</td>\n",
       "      <td>Blacksmith Scene</td>\n",
       "      <td>Blacksmith Scene</td>\n",
       "      <td>0</td>\n",
       "      <td>1893</td>\n",
       "      <td>\\N</td>\n",
       "      <td>1</td>\n",
       "      <td>Comedy,Short</td>\n",
       "      <td>6.2</td>\n",
       "      <td>2437.0</td>\n",
       "    </tr>\n",
       "  </tbody>\n",
       "</table>\n",
       "</div>"
      ],
      "text/plain": [
       "      tconst titleType            primaryTitle           originalTitle  \\\n",
       "0  tt0000001     short              Carmencita              Carmencita   \n",
       "1  tt0000002     short  Le clown et ses chiens  Le clown et ses chiens   \n",
       "2  tt0000003     short          Pauvre Pierrot          Pauvre Pierrot   \n",
       "3  tt0000004     short             Un bon bock             Un bon bock   \n",
       "4  tt0000005     short        Blacksmith Scene        Blacksmith Scene   \n",
       "\n",
       "  isAdult startYear endYear runtimeMinutes                    genres  \\\n",
       "0       0      1894      \\N              1         Documentary,Short   \n",
       "1       0      1892      \\N              5           Animation,Short   \n",
       "2       0      1892      \\N              4  Animation,Comedy,Romance   \n",
       "3       0      1892      \\N             12           Animation,Short   \n",
       "4       0      1893      \\N              1              Comedy,Short   \n",
       "\n",
       "   averageRating  numVotes  \n",
       "0            5.7    1846.0  \n",
       "1            6.0     239.0  \n",
       "2            6.5    1615.0  \n",
       "3            6.0     155.0  \n",
       "4            6.2    2437.0  "
      ]
     },
     "execution_count": 6,
     "metadata": {},
     "output_type": "execute_result"
    }
   ],
   "source": [
    "df_movies = pd.read_csv(URL_MOVIE_DESCRIPTION, sep='\\t')\n",
    "df_ratings = pd.read_csv(URL_MOVIE_RATINGS, sep='\\t')\n",
    "\n",
    "df = df_movies.merge(df_ratings, on='tconst', how='left')\n",
    "del df_movies, df_ratings\n",
    "\n",
    "df.head()"
   ]
  },
  {
   "cell_type": "code",
   "execution_count": 7,
   "id": "afd11784",
   "metadata": {},
   "outputs": [
    {
     "data": {
      "text/plain": [
       "Index(['tconst', 'titleType', 'primaryTitle', 'originalTitle', 'isAdult',\n",
       "       'startYear', 'endYear', 'runtimeMinutes', 'genres', 'averageRating',\n",
       "       'numVotes'],\n",
       "      dtype='object')"
      ]
     },
     "execution_count": 7,
     "metadata": {},
     "output_type": "execute_result"
    }
   ],
   "source": [
    "df.columns"
   ]
  },
  {
   "cell_type": "code",
   "execution_count": 8,
   "id": "77e9d0da",
   "metadata": {},
   "outputs": [
    {
     "data": {
      "text/html": [
       "<div>\n",
       "<style scoped>\n",
       "    .dataframe tbody tr th:only-of-type {\n",
       "        vertical-align: middle;\n",
       "    }\n",
       "\n",
       "    .dataframe tbody tr th {\n",
       "        vertical-align: top;\n",
       "    }\n",
       "\n",
       "    .dataframe thead th {\n",
       "        text-align: right;\n",
       "    }\n",
       "</style>\n",
       "<table border=\"1\" class=\"dataframe\">\n",
       "  <thead>\n",
       "    <tr style=\"text-align: right;\">\n",
       "      <th></th>\n",
       "      <th>movie_id</th>\n",
       "      <th>primary_title</th>\n",
       "      <th>original_title</th>\n",
       "      <th>release_year</th>\n",
       "      <th>duration</th>\n",
       "      <th>genres</th>\n",
       "      <th>rating</th>\n",
       "      <th>num_votes</th>\n",
       "    </tr>\n",
       "  </thead>\n",
       "  <tbody>\n",
       "    <tr>\n",
       "      <th>498</th>\n",
       "      <td>tt0000502</td>\n",
       "      <td>Bohemios</td>\n",
       "      <td>Bohemios</td>\n",
       "      <td>1905</td>\n",
       "      <td>100</td>\n",
       "      <td>NaN</td>\n",
       "      <td>4.5</td>\n",
       "      <td>14.0</td>\n",
       "    </tr>\n",
       "    <tr>\n",
       "      <th>570</th>\n",
       "      <td>tt0000574</td>\n",
       "      <td>The Story of the Kelly Gang</td>\n",
       "      <td>The Story of the Kelly Gang</td>\n",
       "      <td>1906</td>\n",
       "      <td>70</td>\n",
       "      <td>Action,Adventure,Biography</td>\n",
       "      <td>6.1</td>\n",
       "      <td>744.0</td>\n",
       "    </tr>\n",
       "    <tr>\n",
       "      <th>587</th>\n",
       "      <td>tt0000591</td>\n",
       "      <td>The Prodigal Son</td>\n",
       "      <td>L'enfant prodigue</td>\n",
       "      <td>1907</td>\n",
       "      <td>90</td>\n",
       "      <td>Drama</td>\n",
       "      <td>5.2</td>\n",
       "      <td>16.0</td>\n",
       "    </tr>\n",
       "  </tbody>\n",
       "</table>\n",
       "</div>"
      ],
      "text/plain": [
       "      movie_id                primary_title               original_title  \\\n",
       "498  tt0000502                     Bohemios                     Bohemios   \n",
       "570  tt0000574  The Story of the Kelly Gang  The Story of the Kelly Gang   \n",
       "587  tt0000591             The Prodigal Son            L'enfant prodigue   \n",
       "\n",
       "    release_year duration                      genres  rating  num_votes  \n",
       "498         1905      100                         NaN     4.5       14.0  \n",
       "570         1906       70  Action,Adventure,Biography     6.1      744.0  \n",
       "587         1907       90                       Drama     5.2       16.0  "
      ]
     },
     "execution_count": 8,
     "metadata": {},
     "output_type": "execute_result"
    }
   ],
   "source": [
    "# use np.nan instead of string fill value\n",
    "df = df.replace('\\\\N',np.NaN)\n",
    "\n",
    "# Filter out non-movies and porn movies\n",
    "df = df.query('(titleType == \"movie\") and (isAdult ==0)')\n",
    "\n",
    "# preprocess columns\n",
    "df = df.drop(['titleType', 'isAdult', 'endYear'], axis=1)\n",
    "df.columns = ['movie_id', 'primary_title', 'original_title', 'release_year', 'duration', 'genres',\n",
    "             'rating', 'num_votes']\n",
    "\n",
    "df.head(3)"
   ]
  },
  {
   "cell_type": "code",
   "execution_count": 9,
   "id": "68d8ce42",
   "metadata": {},
   "outputs": [
    {
     "name": "stdout",
     "output_type": "stream",
     "text": [
      "Dataset contains 418,847 movies released since 1960\n"
     ]
    }
   ],
   "source": [
    "# preprocess year\n",
    "df = df[df.release_year.notnull()]\n",
    "df.release_year = df.release_year.astype(int)\n",
    "df = df.query('release_year >= 1960')\n",
    "print(f'Dataset contains {df.shape[0]:,} movies released since 1960')\n",
    "\n",
    "# remove movies that were not released yet\n",
    "df = df[df.release_year < 2022]"
   ]
  },
  {
   "cell_type": "code",
   "execution_count": 10,
   "id": "79937b60",
   "metadata": {},
   "outputs": [
    {
     "name": "stdout",
     "output_type": "stream",
     "text": [
      "10.34% have no genre information.\n",
      "8.47% of movies have romantic plot.\n"
     ]
    }
   ],
   "source": [
    "# extract romance genre\n",
    "print(f'{round(df.genres.isnull().sum() / df.shape[0] * 100,2)}% have no genre information.')\n",
    "df = df[df.genres.notnull()]\n",
    "df['is_romance'] = df.genres.str.lower().str.contains('romance')\n",
    "\n",
    "pct_romance = df.is_romance.sum() / df.shape[0] * 100\n",
    "print(f'{round(pct_romance,2)}% of movies have romantic plot.')"
   ]
  },
  {
   "cell_type": "code",
   "execution_count": 11,
   "id": "7d44178b",
   "metadata": {},
   "outputs": [
    {
     "data": {
      "text/plain": [
       "Text(0.5, 1.0, 'How Many Movies Were Released This Year?')"
      ]
     },
     "execution_count": 11,
     "metadata": {},
     "output_type": "execute_result"
    },
    {
     "data": {
      "image/png": "[encoded data removed]",
      "text/plain": [
       "<Figure size 1080x360 with 1 Axes>"
      ]
     },
     "metadata": {},
     "output_type": "display_data"
    }
   ],
   "source": [
    "plt.figure(figsize=(15,5))\n",
    "df.groupby('release_year').count().primary_title.plot(color=random_color(True), lw=3)\n",
    "sns.despine(bottom = True, left = True)\n",
    "plt.title('How Many Movies Were Released This Year?', fontsize=15, fontfamily='monospace')"
   ]
  },
  {
   "cell_type": "code",
   "execution_count": 12,
   "id": "11dad368",
   "metadata": {},
   "outputs": [
    {
     "data": {
      "text/plain": [
       "Text(0.5, 1.0, 'Proportion of Romantic Movies By Year')"
      ]
     },
     "execution_count": 12,
     "metadata": {},
     "output_type": "execute_result"
    },
    {
     "data": {
      "image/png": "[encoded data removed]",
      "text/plain": [
       "<Figure size 1080x360 with 1 Axes>"
      ]
     },
     "metadata": {},
     "output_type": "display_data"
    }
   ],
   "source": [
    "plt.figure(figsize=(15,5))\n",
    "df.groupby('release_year').apply(lambda year: year.is_romance.sum() / year.shape[0])\\\n",
    "        .plot(color=random_color(True), lw=3)\n",
    "sns.despine(bottom = True, left = True)\n",
    "plt.title('Proportion of Romantic Movies By Year', fontsize=15, fontfamily='monospace')"
   ]
  },
  {
   "cell_type": "markdown",
   "id": "ac5d4dd2",
   "metadata": {},
   "source": [
    "## Add Ratings"
   ]
  },
  {
   "cell_type": "code",
   "execution_count": 13,
   "id": "dd906aba",
   "metadata": {},
   "outputs": [
    {
     "data": {
      "text/html": [
       "<div>\n",
       "<style scoped>\n",
       "    .dataframe tbody tr th:only-of-type {\n",
       "        vertical-align: middle;\n",
       "    }\n",
       "\n",
       "    .dataframe tbody tr th {\n",
       "        vertical-align: top;\n",
       "    }\n",
       "\n",
       "    .dataframe thead th {\n",
       "        text-align: right;\n",
       "    }\n",
       "</style>\n",
       "<table border=\"1\" class=\"dataframe\">\n",
       "  <thead>\n",
       "    <tr style=\"text-align: right;\">\n",
       "      <th></th>\n",
       "      <th>movie_id</th>\n",
       "      <th>primary_title</th>\n",
       "      <th>original_title</th>\n",
       "      <th>release_year</th>\n",
       "      <th>duration</th>\n",
       "      <th>genres</th>\n",
       "      <th>rating</th>\n",
       "      <th>num_votes</th>\n",
       "      <th>is_romance</th>\n",
       "    </tr>\n",
       "  </thead>\n",
       "  <tbody>\n",
       "    <tr>\n",
       "      <th>15487</th>\n",
       "      <td>tt0015724</td>\n",
       "      <td>Dama de noche</td>\n",
       "      <td>Dama de noche</td>\n",
       "      <td>1993</td>\n",
       "      <td>102</td>\n",
       "      <td>Drama,Mystery,Romance</td>\n",
       "      <td>6.2</td>\n",
       "      <td>25.0</td>\n",
       "      <td>True</td>\n",
       "    </tr>\n",
       "    <tr>\n",
       "      <th>34805</th>\n",
       "      <td>tt0035423</td>\n",
       "      <td>Kate &amp; Leopold</td>\n",
       "      <td>Kate &amp; Leopold</td>\n",
       "      <td>2001</td>\n",
       "      <td>118</td>\n",
       "      <td>Comedy,Fantasy,Romance</td>\n",
       "      <td>6.4</td>\n",
       "      <td>82503.0</td>\n",
       "      <td>True</td>\n",
       "    </tr>\n",
       "    <tr>\n",
       "      <th>46189</th>\n",
       "      <td>tt0047027</td>\n",
       "      <td>La gitana y el charro</td>\n",
       "      <td>La gitana y el charro</td>\n",
       "      <td>1964</td>\n",
       "      <td>87</td>\n",
       "      <td>Comedy,Musical,Romance</td>\n",
       "      <td>4.8</td>\n",
       "      <td>15.0</td>\n",
       "      <td>True</td>\n",
       "    </tr>\n",
       "  </tbody>\n",
       "</table>\n",
       "</div>"
      ],
      "text/plain": [
       "        movie_id          primary_title         original_title  release_year  \\\n",
       "15487  tt0015724          Dama de noche          Dama de noche          1993   \n",
       "34805  tt0035423         Kate & Leopold         Kate & Leopold          2001   \n",
       "46189  tt0047027  La gitana y el charro  La gitana y el charro          1964   \n",
       "\n",
       "      duration                  genres  rating  num_votes  is_romance  \n",
       "15487      102   Drama,Mystery,Romance     6.2       25.0        True  \n",
       "34805      118  Comedy,Fantasy,Romance     6.4    82503.0        True  \n",
       "46189       87  Comedy,Musical,Romance     4.8       15.0        True  "
      ]
     },
     "execution_count": 13,
     "metadata": {},
     "output_type": "execute_result"
    }
   ],
   "source": [
    "df_romances = df.query('is_romance')\n",
    "df_romances.head(3)"
   ]
  },
  {
   "cell_type": "code",
   "execution_count": 14,
   "id": "70bdbdb0",
   "metadata": {},
   "outputs": [],
   "source": [
    "# remove when duration over 3 hours \n",
    "# preprocess duration\n",
    "df_romances = df_romances[df_romances.duration.notnull()]\n",
    "df_romances.duration = df_romances.duration.astype(int)\n",
    "df_romances = df_romances[df_romances.duration <= 180]"
   ]
  },
  {
   "cell_type": "code",
   "execution_count": 15,
   "id": "7be98d09",
   "metadata": {},
   "outputs": [
    {
     "data": {
      "text/plain": [
       "Text(0.5, 1.0, 'How Long are the Romantic Movies?')"
      ]
     },
     "execution_count": 15,
     "metadata": {},
     "output_type": "execute_result"
    },
    {
     "data": {
      "image/png": "[encoded data removed]",
      "text/plain": [
       "<Figure size 1080x360 with 1 Axes>"
      ]
     },
     "metadata": {},
     "output_type": "display_data"
    }
   ],
   "source": [
    "plt.figure(figsize=(15,5))\n",
    "df_romances.duration.hist(bins=30, color=random_color())\n",
    "sns.despine(bottom = True, left = True)\n",
    "plt.grid(False)\n",
    "plt.title('How Long are the Romantic Movies?', fontsize=20)"
   ]
  },
  {
   "cell_type": "code",
   "execution_count": 16,
   "id": "98a9c2e3",
   "metadata": {},
   "outputs": [
    {
     "data": {
      "text/plain": [
       "Text(0.5, 1.0, 'How Romantic Movies Are Rated?')"
      ]
     },
     "execution_count": 16,
     "metadata": {},
     "output_type": "execute_result"
    },
    {
     "data": {
      "image/png": "[encoded data removed]",
      "text/plain": [
       "<Figure size 1080x360 with 1 Axes>"
      ]
     },
     "metadata": {},
     "output_type": "display_data"
    }
   ],
   "source": [
    "plt.figure(figsize=(15,5))\n",
    "df_romances.rating.hist(bins=30, color=random_color())\n",
    "sns.despine(bottom = True, left = True)\n",
    "plt.grid(False)\n",
    "plt.title('How Romantic Movies Are Rated?', fontsize=20)"
   ]
  },
  {
   "cell_type": "code",
   "execution_count": 17,
   "id": "75c0a50a",
   "metadata": {},
   "outputs": [
    {
     "name": "stdout",
     "output_type": "stream",
     "text": [
      "1.05% of movies have no votes on IMDB.\n"
     ]
    },
    {
     "name": "stderr",
     "output_type": "stream",
     "text": [
      "/tmp/ipykernel_228/838461458.py:4: UserWarning: Boolean Series key will be reindexed to match DataFrame index.\n",
      "  df_romances = df_romances[df.num_votes.notnull()]\n"
     ]
    },
    {
     "data": {
      "text/plain": [
       "21736"
      ]
     },
     "execution_count": 17,
     "metadata": {},
     "output_type": "execute_result"
    }
   ],
   "source": [
    "num_no_votes = df_romances[df_romances.num_votes.isnull()].shape[0] / df.shape[0] * 100\n",
    "print(f'{round(num_no_votes,2)}% of movies have no votes on IMDB.')\n",
    "\n",
    "df_romances = df_romances[df.num_votes.notnull()]\n",
    "df_romances.shape[0]"
   ]
  },
  {
   "cell_type": "code",
   "execution_count": 18,
   "id": "a7c4729e",
   "metadata": {},
   "outputs": [
    {
     "data": {
      "text/plain": [
       "<AxesSubplot:xlabel='num_votes', ylabel='rating'>"
      ]
     },
     "execution_count": 18,
     "metadata": {},
     "output_type": "execute_result"
    },
    {
     "data": {
      "image/png": "[encoded data removed]",
      "text/plain": [
       "<Figure size 720x720 with 1 Axes>"
      ]
     },
     "metadata": {},
     "output_type": "display_data"
    }
   ],
   "source": [
    "plt.figure(figsize=(10,10))\n",
    "sns.scatterplot(data=df_romances, x='num_votes', y='rating', color=random_color())"
   ]
  },
  {
   "cell_type": "code",
   "execution_count": 19,
   "id": "8285f3cb",
   "metadata": {},
   "outputs": [],
   "source": [
    "pct_foreign = df_romances[df_romances.primary_title != df_romances.original_title].shape[0] / df_romances.shape[0]\n",
    "df_romances = df_romances.query('primary_title == original_title')"
   ]
  },
  {
   "cell_type": "code",
   "execution_count": 20,
   "id": "770d9e7d",
   "metadata": {},
   "outputs": [
    {
     "data": {
      "text/html": [
       "<div>\n",
       "<style scoped>\n",
       "    .dataframe tbody tr th:only-of-type {\n",
       "        vertical-align: middle;\n",
       "    }\n",
       "\n",
       "    .dataframe tbody tr th {\n",
       "        vertical-align: top;\n",
       "    }\n",
       "\n",
       "    .dataframe thead th {\n",
       "        text-align: right;\n",
       "    }\n",
       "</style>\n",
       "<table border=\"1\" class=\"dataframe\">\n",
       "  <thead>\n",
       "    <tr style=\"text-align: right;\">\n",
       "      <th></th>\n",
       "      <th>primary_title</th>\n",
       "      <th>original_title</th>\n",
       "      <th>release_year</th>\n",
       "      <th>duration</th>\n",
       "      <th>genres</th>\n",
       "      <th>rating</th>\n",
       "      <th>num_votes</th>\n",
       "      <th>is_romance</th>\n",
       "    </tr>\n",
       "    <tr>\n",
       "      <th>movie_id</th>\n",
       "      <th></th>\n",
       "      <th></th>\n",
       "      <th></th>\n",
       "      <th></th>\n",
       "      <th></th>\n",
       "      <th></th>\n",
       "      <th></th>\n",
       "      <th></th>\n",
       "    </tr>\n",
       "  </thead>\n",
       "  <tbody>\n",
       "    <tr>\n",
       "      <th>tt9766332</th>\n",
       "      <td>Atrangi Re</td>\n",
       "      <td>Atrangi Re</td>\n",
       "      <td>2021</td>\n",
       "      <td>138</td>\n",
       "      <td>Comedy,Drama,Romance</td>\n",
       "      <td>6.7</td>\n",
       "      <td>18270.0</td>\n",
       "      <td>True</td>\n",
       "    </tr>\n",
       "    <tr>\n",
       "      <th>tt11080108</th>\n",
       "      <td>The Map of Tiny Perfect Things</td>\n",
       "      <td>The Map of Tiny Perfect Things</td>\n",
       "      <td>2021</td>\n",
       "      <td>98</td>\n",
       "      <td>Comedy,Fantasy,Romance</td>\n",
       "      <td>6.8</td>\n",
       "      <td>18978.0</td>\n",
       "      <td>True</td>\n",
       "    </tr>\n",
       "    <tr>\n",
       "      <th>tt4590256</th>\n",
       "      <td>He's All That</td>\n",
       "      <td>He's All That</td>\n",
       "      <td>2021</td>\n",
       "      <td>88</td>\n",
       "      <td>Comedy,Romance</td>\n",
       "      <td>4.3</td>\n",
       "      <td>21651.0</td>\n",
       "      <td>True</td>\n",
       "    </tr>\n",
       "    <tr>\n",
       "      <th>tt10676012</th>\n",
       "      <td>To All the Boys: Always and Forever</td>\n",
       "      <td>To All the Boys: Always and Forever</td>\n",
       "      <td>2021</td>\n",
       "      <td>109</td>\n",
       "      <td>Comedy,Drama,Romance</td>\n",
       "      <td>6.3</td>\n",
       "      <td>22693.0</td>\n",
       "      <td>True</td>\n",
       "    </tr>\n",
       "    <tr>\n",
       "      <th>tt12676326</th>\n",
       "      <td>Malcolm &amp; Marie</td>\n",
       "      <td>Malcolm &amp; Marie</td>\n",
       "      <td>2021</td>\n",
       "      <td>106</td>\n",
       "      <td>Drama,Romance</td>\n",
       "      <td>6.7</td>\n",
       "      <td>33882.0</td>\n",
       "      <td>True</td>\n",
       "    </tr>\n",
       "  </tbody>\n",
       "</table>\n",
       "</div>"
      ],
      "text/plain": [
       "                                  primary_title  \\\n",
       "movie_id                                          \n",
       "tt9766332                            Atrangi Re   \n",
       "tt11080108       The Map of Tiny Perfect Things   \n",
       "tt4590256                         He's All That   \n",
       "tt10676012  To All the Boys: Always and Forever   \n",
       "tt12676326                      Malcolm & Marie   \n",
       "\n",
       "                                 original_title  release_year  duration  \\\n",
       "movie_id                                                                  \n",
       "tt9766332                            Atrangi Re          2021       138   \n",
       "tt11080108       The Map of Tiny Perfect Things          2021        98   \n",
       "tt4590256                         He's All That          2021        88   \n",
       "tt10676012  To All the Boys: Always and Forever          2021       109   \n",
       "tt12676326                      Malcolm & Marie          2021       106   \n",
       "\n",
       "                            genres  rating  num_votes  is_romance  \n",
       "movie_id                                                           \n",
       "tt9766332     Comedy,Drama,Romance     6.7    18270.0        True  \n",
       "tt11080108  Comedy,Fantasy,Romance     6.8    18978.0        True  \n",
       "tt4590256           Comedy,Romance     4.3    21651.0        True  \n",
       "tt10676012    Comedy,Drama,Romance     6.3    22693.0        True  \n",
       "tt12676326           Drama,Romance     6.7    33882.0        True  "
      ]
     },
     "execution_count": 20,
     "metadata": {},
     "output_type": "execute_result"
    }
   ],
   "source": [
    "TOP_YEAR = 10\n",
    "data = df_romances.groupby('release_year')\\\n",
    "    .apply(lambda y: y.sort_values(by='num_votes', ascending=False).iloc[:TOP_YEAR])\\\n",
    "    .set_index('movie_id').sort_values(by='release_year', ascending=False)\n",
    "data.head()"
   ]
  },
  {
   "cell_type": "code",
   "execution_count": 21,
   "id": "9b41d32b",
   "metadata": {},
   "outputs": [
    {
     "data": {
      "text/html": [
       "<div>\n",
       "<style scoped>\n",
       "    .dataframe tbody tr th:only-of-type {\n",
       "        vertical-align: middle;\n",
       "    }\n",
       "\n",
       "    .dataframe tbody tr th {\n",
       "        vertical-align: top;\n",
       "    }\n",
       "\n",
       "    .dataframe thead th {\n",
       "        text-align: right;\n",
       "    }\n",
       "</style>\n",
       "<table border=\"1\" class=\"dataframe\">\n",
       "  <thead>\n",
       "    <tr style=\"text-align: right;\">\n",
       "      <th></th>\n",
       "      <th>primary_title</th>\n",
       "      <th>original_title</th>\n",
       "      <th>release_year</th>\n",
       "      <th>duration</th>\n",
       "      <th>genres</th>\n",
       "      <th>rating</th>\n",
       "      <th>num_votes</th>\n",
       "      <th>is_romance</th>\n",
       "    </tr>\n",
       "    <tr>\n",
       "      <th>movie_id</th>\n",
       "      <th></th>\n",
       "      <th></th>\n",
       "      <th></th>\n",
       "      <th></th>\n",
       "      <th></th>\n",
       "      <th></th>\n",
       "      <th></th>\n",
       "      <th></th>\n",
       "    </tr>\n",
       "  </thead>\n",
       "  <tbody>\n",
       "    <tr>\n",
       "      <th>tt9766332</th>\n",
       "      <td>Atrangi Re</td>\n",
       "      <td>Atrangi Re</td>\n",
       "      <td>2021</td>\n",
       "      <td>138</td>\n",
       "      <td>Comedy,Drama,Romance</td>\n",
       "      <td>6.7</td>\n",
       "      <td>18270.0</td>\n",
       "      <td>True</td>\n",
       "    </tr>\n",
       "    <tr>\n",
       "      <th>tt11080108</th>\n",
       "      <td>The Map of Tiny Perfect Things</td>\n",
       "      <td>The Map of Tiny Perfect Things</td>\n",
       "      <td>2021</td>\n",
       "      <td>98</td>\n",
       "      <td>Comedy,Fantasy,Romance</td>\n",
       "      <td>6.8</td>\n",
       "      <td>18978.0</td>\n",
       "      <td>True</td>\n",
       "    </tr>\n",
       "    <tr>\n",
       "      <th>tt4590256</th>\n",
       "      <td>He's All That</td>\n",
       "      <td>He's All That</td>\n",
       "      <td>2021</td>\n",
       "      <td>88</td>\n",
       "      <td>Comedy,Romance</td>\n",
       "      <td>4.3</td>\n",
       "      <td>21651.0</td>\n",
       "      <td>True</td>\n",
       "    </tr>\n",
       "    <tr>\n",
       "      <th>tt10676012</th>\n",
       "      <td>To All the Boys: Always and Forever</td>\n",
       "      <td>To All the Boys: Always and Forever</td>\n",
       "      <td>2021</td>\n",
       "      <td>109</td>\n",
       "      <td>Comedy,Drama,Romance</td>\n",
       "      <td>6.3</td>\n",
       "      <td>22693.0</td>\n",
       "      <td>True</td>\n",
       "    </tr>\n",
       "    <tr>\n",
       "      <th>tt12676326</th>\n",
       "      <td>Malcolm &amp; Marie</td>\n",
       "      <td>Malcolm &amp; Marie</td>\n",
       "      <td>2021</td>\n",
       "      <td>106</td>\n",
       "      <td>Drama,Romance</td>\n",
       "      <td>6.7</td>\n",
       "      <td>33882.0</td>\n",
       "      <td>True</td>\n",
       "    </tr>\n",
       "    <tr>\n",
       "      <th>...</th>\n",
       "      <td>...</td>\n",
       "      <td>...</td>\n",
       "      <td>...</td>\n",
       "      <td>...</td>\n",
       "      <td>...</td>\n",
       "      <td>...</td>\n",
       "      <td>...</td>\n",
       "      <td>...</td>\n",
       "    </tr>\n",
       "    <tr>\n",
       "      <th>tt0053622</th>\n",
       "      <td>BUtterfield 8</td>\n",
       "      <td>BUtterfield 8</td>\n",
       "      <td>1960</td>\n",
       "      <td>109</td>\n",
       "      <td>Drama,Romance</td>\n",
       "      <td>6.4</td>\n",
       "      <td>6399.0</td>\n",
       "      <td>True</td>\n",
       "    </tr>\n",
       "    <tr>\n",
       "      <th>tt0052832</th>\n",
       "      <td>The Fugitive Kind</td>\n",
       "      <td>The Fugitive Kind</td>\n",
       "      <td>1960</td>\n",
       "      <td>119</td>\n",
       "      <td>Drama,Romance</td>\n",
       "      <td>7.1</td>\n",
       "      <td>6230.0</td>\n",
       "      <td>True</td>\n",
       "    </tr>\n",
       "    <tr>\n",
       "      <th>tt0054476</th>\n",
       "      <td>Wild River</td>\n",
       "      <td>Wild River</td>\n",
       "      <td>1960</td>\n",
       "      <td>110</td>\n",
       "      <td>Drama,History,Romance</td>\n",
       "      <td>7.6</td>\n",
       "      <td>5216.0</td>\n",
       "      <td>True</td>\n",
       "    </tr>\n",
       "    <tr>\n",
       "      <th>tt0053877</th>\n",
       "      <td>The Grass Is Greener</td>\n",
       "      <td>The Grass Is Greener</td>\n",
       "      <td>1960</td>\n",
       "      <td>104</td>\n",
       "      <td>Comedy,Drama,Romance</td>\n",
       "      <td>6.5</td>\n",
       "      <td>5074.0</td>\n",
       "      <td>True</td>\n",
       "    </tr>\n",
       "    <tr>\n",
       "      <th>tt0053604</th>\n",
       "      <td>The Apartment</td>\n",
       "      <td>The Apartment</td>\n",
       "      <td>1960</td>\n",
       "      <td>125</td>\n",
       "      <td>Comedy,Drama,Romance</td>\n",
       "      <td>8.3</td>\n",
       "      <td>175094.0</td>\n",
       "      <td>True</td>\n",
       "    </tr>\n",
       "  </tbody>\n",
       "</table>\n",
       "<p>620 rows × 8 columns</p>\n",
       "</div>"
      ],
      "text/plain": [
       "                                  primary_title  \\\n",
       "movie_id                                          \n",
       "tt9766332                            Atrangi Re   \n",
       "tt11080108       The Map of Tiny Perfect Things   \n",
       "tt4590256                         He's All That   \n",
       "tt10676012  To All the Boys: Always and Forever   \n",
       "tt12676326                      Malcolm & Marie   \n",
       "...                                         ...   \n",
       "tt0053622                         BUtterfield 8   \n",
       "tt0052832                     The Fugitive Kind   \n",
       "tt0054476                            Wild River   \n",
       "tt0053877                  The Grass Is Greener   \n",
       "tt0053604                         The Apartment   \n",
       "\n",
       "                                 original_title  release_year  duration  \\\n",
       "movie_id                                                                  \n",
       "tt9766332                            Atrangi Re          2021       138   \n",
       "tt11080108       The Map of Tiny Perfect Things          2021        98   \n",
       "tt4590256                         He's All That          2021        88   \n",
       "tt10676012  To All the Boys: Always and Forever          2021       109   \n",
       "tt12676326                      Malcolm & Marie          2021       106   \n",
       "...                                         ...           ...       ...   \n",
       "tt0053622                         BUtterfield 8          1960       109   \n",
       "tt0052832                     The Fugitive Kind          1960       119   \n",
       "tt0054476                            Wild River          1960       110   \n",
       "tt0053877                  The Grass Is Greener          1960       104   \n",
       "tt0053604                         The Apartment          1960       125   \n",
       "\n",
       "                            genres  rating  num_votes  is_romance  \n",
       "movie_id                                                           \n",
       "tt9766332     Comedy,Drama,Romance     6.7    18270.0        True  \n",
       "tt11080108  Comedy,Fantasy,Romance     6.8    18978.0        True  \n",
       "tt4590256           Comedy,Romance     4.3    21651.0        True  \n",
       "tt10676012    Comedy,Drama,Romance     6.3    22693.0        True  \n",
       "tt12676326           Drama,Romance     6.7    33882.0        True  \n",
       "...                            ...     ...        ...         ...  \n",
       "tt0053622            Drama,Romance     6.4     6399.0        True  \n",
       "tt0052832            Drama,Romance     7.1     6230.0        True  \n",
       "tt0054476    Drama,History,Romance     7.6     5216.0        True  \n",
       "tt0053877     Comedy,Drama,Romance     6.5     5074.0        True  \n",
       "tt0053604     Comedy,Drama,Romance     8.3   175094.0        True  \n",
       "\n",
       "[620 rows x 8 columns]"
      ]
     },
     "execution_count": 21,
     "metadata": {},
     "output_type": "execute_result"
    }
   ],
   "source": [
    "data"
   ]
  },
  {
   "cell_type": "markdown",
   "id": "33aeda3c",
   "metadata": {},
   "source": [
    "## Add Actors and Age"
   ]
  },
  {
   "cell_type": "code",
   "execution_count": 22,
   "id": "8106a1f8",
   "metadata": {},
   "outputs": [
    {
     "data": {
      "text/html": [
       "<div>\n",
       "<style scoped>\n",
       "    .dataframe tbody tr th:only-of-type {\n",
       "        vertical-align: middle;\n",
       "    }\n",
       "\n",
       "    .dataframe tbody tr th {\n",
       "        vertical-align: top;\n",
       "    }\n",
       "\n",
       "    .dataframe thead th {\n",
       "        text-align: right;\n",
       "    }\n",
       "</style>\n",
       "<table border=\"1\" class=\"dataframe\">\n",
       "  <thead>\n",
       "    <tr style=\"text-align: right;\">\n",
       "      <th></th>\n",
       "      <th>primary_title</th>\n",
       "      <th>original_title</th>\n",
       "      <th>release_year</th>\n",
       "      <th>duration</th>\n",
       "      <th>genres</th>\n",
       "      <th>rating</th>\n",
       "      <th>num_votes</th>\n",
       "      <th>is_romance</th>\n",
       "      <th>actress</th>\n",
       "      <th>actress_birth_year</th>\n",
       "      <th>actress_age</th>\n",
       "      <th>actor</th>\n",
       "      <th>actor_birth_year</th>\n",
       "      <th>actor_age</th>\n",
       "      <th>age_gap</th>\n",
       "    </tr>\n",
       "    <tr>\n",
       "      <th>movie_id</th>\n",
       "      <th></th>\n",
       "      <th></th>\n",
       "      <th></th>\n",
       "      <th></th>\n",
       "      <th></th>\n",
       "      <th></th>\n",
       "      <th></th>\n",
       "      <th></th>\n",
       "      <th></th>\n",
       "      <th></th>\n",
       "      <th></th>\n",
       "      <th></th>\n",
       "      <th></th>\n",
       "      <th></th>\n",
       "      <th></th>\n",
       "    </tr>\n",
       "  </thead>\n",
       "  <tbody>\n",
       "    <tr>\n",
       "      <th>tt9766332</th>\n",
       "      <td>Atrangi Re</td>\n",
       "      <td>Atrangi Re</td>\n",
       "      <td>2021</td>\n",
       "      <td>138</td>\n",
       "      <td>Comedy,Drama,Romance</td>\n",
       "      <td>6.7</td>\n",
       "      <td>18270.0</td>\n",
       "      <td>True</td>\n",
       "      <td>NaN</td>\n",
       "      <td>NaN</td>\n",
       "      <td>NaN</td>\n",
       "      <td>NaN</td>\n",
       "      <td>NaN</td>\n",
       "      <td>NaN</td>\n",
       "      <td>NaN</td>\n",
       "    </tr>\n",
       "  </tbody>\n",
       "</table>\n",
       "</div>"
      ],
      "text/plain": [
       "          primary_title original_title  release_year  duration  \\\n",
       "movie_id                                                         \n",
       "tt9766332    Atrangi Re     Atrangi Re          2021       138   \n",
       "\n",
       "                         genres  rating  num_votes  is_romance  actress  \\\n",
       "movie_id                                                                  \n",
       "tt9766332  Comedy,Drama,Romance     6.7    18270.0        True      NaN   \n",
       "\n",
       "           actress_birth_year  actress_age  actor  actor_birth_year  \\\n",
       "movie_id                                                              \n",
       "tt9766332                 NaN          NaN    NaN               NaN   \n",
       "\n",
       "           actor_age  age_gap  \n",
       "movie_id                       \n",
       "tt9766332        NaN      NaN  "
      ]
     },
     "execution_count": 22,
     "metadata": {},
     "output_type": "execute_result"
    }
   ],
   "source": [
    "data['actress'] = np.nan\n",
    "data['actress_birth_year'] = np.nan\n",
    "data['actress_age'] = np.nan\n",
    "\n",
    "data['actor'] = np.nan\n",
    "data['actor_birth_year'] = np.nan\n",
    "data['actor_age'] = np.nan\n",
    "\n",
    "data['age_gap'] = np.nan\n",
    "\n",
    "data.head(1)"
   ]
  },
  {
   "cell_type": "code",
   "execution_count": 23,
   "id": "1b69ceec",
   "metadata": {},
   "outputs": [
    {
     "data": {
      "text/plain": [
       "0.55"
      ]
     },
     "execution_count": 23,
     "metadata": {},
     "output_type": "execute_result"
    }
   ],
   "source": [
    "data[data.genres.str.contains('Comedy')].shape[0] / data.shape[0]"
   ]
  },
  {
   "cell_type": "code",
   "execution_count": 24,
   "id": "612e1ab4",
   "metadata": {},
   "outputs": [],
   "source": [
    "# get names of actors playing romantic couple\n",
    "# get actors' birth year"
   ]
  },
  {
   "cell_type": "code",
   "execution_count": 25,
   "id": "3597f41d",
   "metadata": {},
   "outputs": [],
   "source": [
    "def calculate_actress_age(row):\n",
    "    return row.release_year - row.actress_birth_year\n",
    "\n",
    "def calculate_actor_age(row):\n",
    "    return row.release_year - row.actor_birth_year\n",
    "\n",
    "def calculate_age_gap(row):\n",
    "    return row.actor_birth_year - row.actress_birth_year"
   ]
  },
  {
   "cell_type": "code",
   "execution_count": null,
   "id": "9e071588",
   "metadata": {},
   "outputs": [],
   "source": [
    "URL_ACTORS = 'https://datasets.imdbws.com/title.principals.tsv.gz'\n",
    "df_actors = pd.read_csv(URL_ACTORS, sep='\\t')\n",
    "df_actors.head()"
   ]
  },
  {
   "cell_type": "code",
   "execution_count": null,
   "id": "e3e2c7ec",
   "metadata": {},
   "outputs": [],
   "source": []
  }
 ],
 "metadata": {
  "kernelspec": {
   "display_name": "Python 3 (ipykernel)",
   "language": "python",
   "name": "python3"
  },
  "language_info": {
   "codemirror_mode": {
    "name": "ipython",
    "version": 3
   },
   "file_extension": ".py",
   "mimetype": "text/x-python",
   "name": "python",
   "nbconvert_exporter": "python",
   "pygments_lexer": "ipython3",
   "version": "3.9.5"
  }
 },
 "nbformat": 4,
 "nbformat_minor": 5
}
