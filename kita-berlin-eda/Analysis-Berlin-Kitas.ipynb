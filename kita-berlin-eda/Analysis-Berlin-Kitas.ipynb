{
 "cells": [
  {
   "cell_type": "code",
   "execution_count": 1,
   "id": "fe0826d4-d2f7-497d-8351-e97475b52f2a",
   "metadata": {},
   "outputs": [],
   "source": [
    "import pandas as pd\n",
    "import numpy as np\n",
    "from tqdm import tqdm\n",
    "import matplotlib.pyplot as plt\n",
    "import seaborn as sns\n",
    "import altair as alt\n",
    "\n",
    "%matplotlib inline\n",
    "sns.set()"
   ]
  },
  {
   "cell_type": "markdown",
   "id": "4d54350f-e550-4723-bd5a-e728d6652470",
   "metadata": {},
   "source": [
    "# Analysis: Kitas in Berlin"
   ]
  },
  {
   "cell_type": "markdown",
   "id": "ea97c764-6628-453d-8a4c-7f7cf0b9058c",
   "metadata": {},
   "source": [
    "Loading data"
   ]
  },
  {
   "cell_type": "markdown",
   "id": "fb3feaaa-a76a-4747-9a0c-6a27a559515f",
   "metadata": {},
   "source": [
    "## EDA"
   ]
  },
  {
   "cell_type": "markdown",
   "id": "e580caf4-c6e7-43f7-a96b-b1f1d0d09d9e",
   "metadata": {},
   "source": [
    "# Summary"
   ]
  },
  {
   "cell_type": "code",
   "execution_count": null,
   "id": "a8de2473-f6a0-4141-a91d-cb1727bc079d",
   "metadata": {},
   "outputs": [],
   "source": []
  }
 ],
 "metadata": {
  "kernelspec": {
   "display_name": "py39",
   "language": "python",
   "name": "py39"
  },
  "language_info": {
   "codemirror_mode": {
    "name": "ipython",
    "version": 3
   },
   "file_extension": ".py",
   "mimetype": "text/x-python",
   "name": "python",
   "nbconvert_exporter": "python",
   "pygments_lexer": "ipython3",
   "version": "3.9.5"
  }
 },
 "nbformat": 4,
 "nbformat_minor": 5
}
